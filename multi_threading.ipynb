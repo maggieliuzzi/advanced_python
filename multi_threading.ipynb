{
  "nbformat": 4,
  "nbformat_minor": 0,
  "metadata": {
    "colab": {
      "name": "multi-threading.ipynb",
      "provenance": [],
      "authorship_tag": "ABX9TyN97l4dLTCK52sBy5emjhim",
      "include_colab_link": true
    },
    "kernelspec": {
      "name": "python3",
      "display_name": "Python 3"
    }
  },
  "cells": [
    {
      "cell_type": "markdown",
      "metadata": {
        "id": "view-in-github",
        "colab_type": "text"
      },
      "source": [
        "<a href=\"https://colab.research.google.com/github/maggieliuzzi/advanced_python/blob/master/multi_threading.ipynb\" target=\"_parent\"><img src=\"https://colab.research.google.com/assets/colab-badge.svg\" alt=\"Open In Colab\"/></a>"
      ]
    },
    {
      "cell_type": "code",
      "metadata": {
        "id": "3fQkQ-rPBIgV",
        "colab_type": "code",
        "colab": {}
      },
      "source": [
        "import itertools\n",
        "import threading\n",
        "import time\n",
        "import multiprocessing\n",
        "import numpy as np"
      ],
      "execution_count": 0,
      "outputs": []
    },
    {
      "cell_type": "code",
      "metadata": {
        "id": "FDakQC8wBLeG",
        "colab_type": "code",
        "colab": {}
      },
      "source": [
        "class Worker:\n",
        "  def __init__(self, id_, global_counter):\n",
        "    self.id = id_\n",
        "    self.global_counter = global_counter\n",
        "    self.local_counter = itertools.count()\n",
        "\n",
        "  def run(self): \n",
        "    while True:\n",
        "      time.sleep(np.random.rand()*2)\n",
        "      global_step = next(self.global_counter)\n",
        "      local_step = next(self.local_counter)\n",
        "      print(\"Worker({}): {}\".format(self.id, local_step))\n",
        "      if global_step >= 20:\n",
        "        break"
      ],
      "execution_count": 0,
      "outputs": []
    },
    {
      "cell_type": "code",
      "metadata": {
        "id": "R3qpFyLUBOZe",
        "colab_type": "code",
        "colab": {
          "base_uri": "https://localhost:8080/",
          "height": 34
        },
        "outputId": "614e0e1d-076e-42d1-9d2e-51bf8da624c8"
      },
      "source": [
        "global_counter = itertools.count()\n",
        "NUM_WORKERS = multiprocessing.cpu_count()\n",
        "print(NUM_WORKERS)"
      ],
      "execution_count": 22,
      "outputs": [
        {
          "output_type": "stream",
          "text": [
            "2\n"
          ],
          "name": "stdout"
        }
      ]
    },
    {
      "cell_type": "code",
      "metadata": {
        "id": "pglWO4iDBP8B",
        "colab_type": "code",
        "colab": {}
      },
      "source": [
        "# create the workers\n",
        "workers = []\n",
        "for worker_id in range(NUM_WORKERS):\n",
        "  worker = Worker(worker_id, global_counter)\n",
        "  workers.append(worker)"
      ],
      "execution_count": 0,
      "outputs": []
    },
    {
      "cell_type": "code",
      "metadata": {
        "id": "eff0dupMBP_z",
        "colab_type": "code",
        "colab": {}
      },
      "source": [
        "# start the threads\n",
        "worker_threads = []\n",
        "for worker in workers:\n",
        "  worker_fn = lambda: worker.run()\n",
        "  t = threading.Thread(target=worker_fn)\n",
        "  t.start()\n",
        "  worker_threads.append(t)"
      ],
      "execution_count": 0,
      "outputs": []
    },
    {
      "cell_type": "code",
      "metadata": {
        "id": "ed0fXziKBOft",
        "colab_type": "code",
        "colab": {
          "base_uri": "https://localhost:8080/",
          "height": 391
        },
        "outputId": "55c4f8d8-9548-473e-919f-69405a7b95f8"
      },
      "source": [
        "# join the threads  # so that DONE! is printed after all threads finish\n",
        "for t in worker_threads:\n",
        "  t.join()"
      ],
      "execution_count": 20,
      "outputs": [
        {
          "output_type": "stream",
          "text": [
            "Worker(1): 0\n",
            "Worker(1): 1\n",
            "Worker(1): 2\n",
            "Worker(0): 0\n",
            "Worker(1): 3\n",
            "Worker(1): 4\n",
            "Worker(0): 1\n",
            "Worker(1): 5\n",
            "Worker(1): 6\n",
            "Worker(0): 2\n",
            "Worker(1): 7\n",
            "Worker(0): 3\n",
            "Worker(1): 8\n",
            "Worker(1): 9\n",
            "Worker(0): 4\n",
            "Worker(0): 5\n",
            "Worker(0): 6\n",
            "Worker(0): 7\n",
            "Worker(0): 8\n",
            "Worker(1): 10\n",
            "Worker(1): 11\n",
            "Worker(0): 9\n"
          ],
          "name": "stdout"
        }
      ]
    },
    {
      "cell_type": "code",
      "metadata": {
        "id": "6cfv2237BLhV",
        "colab_type": "code",
        "colab": {
          "base_uri": "https://localhost:8080/",
          "height": 34
        },
        "outputId": "e690f1c4-b644-4317-f935-7561803ee70f"
      },
      "source": [
        "print(\"DONE!\")"
      ],
      "execution_count": 21,
      "outputs": [
        {
          "output_type": "stream",
          "text": [
            "DONE!\n"
          ],
          "name": "stdout"
        }
      ]
    }
  ]
}